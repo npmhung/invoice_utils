{
 "cells": [
  {
   "cell_type": "code",
   "execution_count": null,
   "metadata": {},
   "outputs": [],
   "source": [
    "import numpy as np\n",
    "import os\n",
    "import sys\n",
    "import cv2 as cv\n",
    "import matplotlib.pyplot as plt\n",
    "from utils.img_tools import *\n",
    "from utils.linecut_model import LineCutModel\n",
    "from features import paragraphs\n",
    "os.environ['CUDA_VISIBLE_DEVICES'] = '0'"
   ]
  },
  {
   "cell_type": "markdown",
   "metadata": {},
   "source": [
    "# Contents\n",
    "### 1.character (glyph) segment\n",
    "### 2.textline (words) segment\n",
    "### 3.paragraph (textlines) segment\n",
    "### 4.tabel segment\n",
    "### 5.stamp/logo segment\n",
    "#############################"
   ]
  },
  {
   "cell_type": "markdown",
   "metadata": {},
   "source": [
    "## Extract paragraph\n",
    "From a reconstruct heat map, try to extract the paragraph by dilate each line vertically so that lines close to each other are merged into 1 block (paragraph)"
   ]
  },
  {
   "cell_type": "code",
   "execution_count": null,
   "metadata": {},
   "outputs": [],
   "source": [
    "def get_paragraph(boxes, shape):\n",
    "    full_mask = draw_mask(boxes, shape)\n",
    "    tmp = cv.dilate(full_mask, np.ones((5,1)), iterations=3)\n",
    "    conts = cv.findContours(tmp, cv.RETR_EXTERNAL,cv.CHAIN_APPROX_SIMPLE )\n",
    "    return conts[1]\n",
    "    "
   ]
  },
  {
   "cell_type": "code",
   "execution_count": null,
   "metadata": {},
   "outputs": [],
   "source": [
    "model = LineCutModel()\n",
    "model.load(model_json='./data/model_final.json', model_weight='./data/weight_linecut.496-0.8976.h5')"
   ]
  },
  {
   "cell_type": "code",
   "execution_count": null,
   "metadata": {},
   "outputs": [],
   "source": [
    "img = load_img('./demo_img/SG1-9-1.jpg')\n",
    "boxes, lines_img, debug_img =model.predict('./demo_img/SG1-9-1.jpg')\n",
    "cont = paragraphs(boxes, img.shape)\n",
    "cv.drawContours(img, cont, -1, 0, 3)"
   ]
  },
  {
   "cell_type": "code",
   "execution_count": null,
   "metadata": {},
   "outputs": [],
   "source": [
    "show_img(img, (20,20))"
   ]
  },
  {
   "cell_type": "markdown",
   "metadata": {},
   "source": [
    "# Line statistic"
   ]
  },
  {
   "cell_type": "code",
   "execution_count": null,
   "metadata": {},
   "outputs": [],
   "source": [
    "boxes[5]"
   ]
  },
  {
   "cell_type": "code",
   "execution_count": null,
   "metadata": {},
   "outputs": [],
   "source": [
    "y=np.array(boxes)[:, 1::2]\n",
    "y.sort(axis=1)"
   ]
  },
  {
   "cell_type": "code",
   "execution_count": null,
   "metadata": {},
   "outputs": [],
   "source": [
    "idx=(y[:,2:]-y[:,:2]).mean(axis=1)>30"
   ]
  },
  {
   "cell_type": "code",
   "execution_count": null,
   "metadata": {},
   "outputs": [],
   "source": [
    "y[5]"
   ]
  },
  {
   "cell_type": "code",
   "execution_count": null,
   "metadata": {},
   "outputs": [],
   "source": [
    "plt.hist((y[:,2:]-y[:,:2]).mean(axis=1)"
   ]
  }
 ],
 "metadata": {
  "kernelspec": {
   "display_name": "tensorflow",
   "language": "python",
   "name": "tensorflow"
  },
  "language_info": {
   "codemirror_mode": {
    "name": "ipython",
    "version": 3
   },
   "file_extension": ".py",
   "mimetype": "text/x-python",
   "name": "python",
   "nbconvert_exporter": "python",
   "pygments_lexer": "ipython3",
   "version": "3.6.6"
  }
 },
 "nbformat": 4,
 "nbformat_minor": 2
}
