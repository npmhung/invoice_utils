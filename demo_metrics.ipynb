{
 "cells": [
  {
   "cell_type": "code",
   "execution_count": 1,
   "metadata": {},
   "outputs": [
    {
     "name": "stdout",
     "output_type": "stream",
     "text": [
      "Debug mode:  True\n"
     ]
    }
   ],
   "source": [
    "from time import time\n",
    "from metrics import *\n",
    "from glob import glob\n",
    "import os\n",
    "from utils.via_io import VIAReader\n",
    "import cv2 as cv\n",
    "from shutil import rmtree\n",
    "\n",
    "DEMO_PATH = './demo_inputs/metrics_demo/'\n",
    "DEBUG = True\n",
    "set_debug(DEBUG)\n",
    "print('Debug mode: ', DEBUG)"
   ]
  },
  {
   "cell_type": "code",
   "execution_count": 2,
   "metadata": {},
   "outputs": [],
   "source": [
    "def test_iou(imgs, gts, preds, names):\n",
    "    base = os.path.join(DEMO_PATH, 'output')\n",
    "    if not os.path.exists(base):\n",
    "        os.makedirs(base)\n",
    "    for im, gt, pred, name in zip(imgs, gts, preds, names):\n",
    "        print('Image:', name)\n",
    "        # break\n",
    "        try:\n",
    "            # create gt & prediction map to use iou\n",
    "            _gt = draw_box(np.zeros_like(im), gt, 1)\n",
    "            _pred = draw_box(np.zeros_like(im), pred, 1)\n",
    "            if DEBUG:\n",
    "                tmp = np.stack([_pred, np.zeros_like(_pred), _gt], 2)*255\n",
    "                cv.imwrite(os.path.join(base, name+'.png'), tmp)\n",
    "            # print('dafadf',pred)\n",
    "            # print(_gt.dtype, np.unique(_gt, return_counts=True))\n",
    "            print(mean_iou(_gt, _pred, 2, [1,1]))\n",
    "        except Exception as e:\n",
    "            print(e)\n",
    "        #     pass\n",
    "        # break\n",
    "\n",
    "\n",
    "def test_err(imgs, gts, preds, names, err_type):\n",
    "    base = os.path.join(DEMO_PATH, 'output')\n",
    "    if not os.path.exists(base):\n",
    "        os.makedirs(base)\n",
    "    for name, gt, pred, img in zip(names, gts, preds, imgs):\n",
    "        try:\n",
    "            print('Image:', name)\n",
    "\n",
    "            err = err_type()\n",
    "            # print(out)\n",
    "            start_time = time()\n",
    "            # print(gt)\n",
    "            err, db_imgs = err(gt, pred, img)\n",
    "\n",
    "            print('Time: %f'%(time()-start_time))\n",
    "            print(err)\n",
    "            out_folder = os.path.join(base, name)\n",
    "            if os.path.exists(out_folder):\n",
    "                rmtree(out_folder)\n",
    "            os.makedirs(out_folder)\n",
    "\n",
    "            if DEBUG:\n",
    "                for idx, im in enumerate(db_imgs):\n",
    "                    # print(os.path.join(out_folder, '%d.png'%idx))\n",
    "                    cv.imwrite(os.path.join(out_folder, '%d.png'%idx), im)\n",
    "        except Exception as e:\n",
    "            print(e)\n",
    "        # return\n",
    "\n",
    "\n",
    "\n",
    "def load_data(path):\n",
    "    im_path = os.path.join(path, 'imgs')\n",
    "    gt_path = os.path.join(path, 'gts')\n",
    "    pr_path = os.path.join(path, 'preds')\n",
    "    ext = 'png'\n",
    "    ll = sorted([os.path.splitext(os.path.basename(im))[0] for im in glob(os.path.join(im_path, '*.%s'%ext))])\n",
    "    # print(ll, os.path.join(im_path, '*.%s'%ext))\n",
    "    imgs = []\n",
    "    gts = []\n",
    "    preds = []\n",
    "    names = []\n",
    "    for iname in ll:\n",
    "        gtp = os.path.join(gt_path, iname + '.csv')\n",
    "        prp = os.path.join(pr_path, iname + '.csv')\n",
    "        if os.path.exists(gtp) and os.path.exists(prp):\n",
    "            gt = VIAReader(gtp).getBoxes()\n",
    "            pr = VIAReader(prp).getBoxes()\n",
    "            im = cv.imread(os.path.join(im_path, iname + '.%s' % ext))\n",
    "            im = cv.cvtColor(im, cv.COLOR_BGR2GRAY)\n",
    "            # print(im.shape)\n",
    "            imgs.append(im)\n",
    "            # print(gt)\n",
    "            gts.append(np.array(gt))\n",
    "            preds.append(np.array(pr))\n",
    "            names.append(iname)\n",
    "\n",
    "    return imgs, gts, preds, names"
   ]
  },
  {
   "cell_type": "code",
   "execution_count": 3,
   "metadata": {},
   "outputs": [
    {
     "name": "stdout",
     "output_type": "stream",
     "text": [
      "Image: RG1-3\n",
      "Time: 0.729674\n",
      "{'Total error': 3, 'Mean error': 0.025423728813559324, 'STD': 0.1574082679746331}\n"
     ]
    }
   ],
   "source": [
    "imgs, gts, preds, names = load_data(DEMO_PATH)\n",
    "test_err(imgs, gts, preds, names, merge_error) #test merge\n",
    "# test_err(imgs, gts, preds, names, split_error)  # test split\n",
    "# test_iou(imgs, gts, preds, names)"
   ]
  }
 ],
 "metadata": {
  "kernelspec": {
   "display_name": "tensorflow",
   "language": "python",
   "name": "tensorflow"
  },
  "language_info": {
   "codemirror_mode": {
    "name": "ipython",
    "version": 3
   },
   "file_extension": ".py",
   "mimetype": "text/x-python",
   "name": "python",
   "nbconvert_exporter": "python",
   "pygments_lexer": "ipython3",
   "version": "3.6.6"
  }
 },
 "nbformat": 4,
 "nbformat_minor": 2
}
