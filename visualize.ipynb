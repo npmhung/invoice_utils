{
 "cells": [
  {
   "cell_type": "code",
   "execution_count": 3,
   "metadata": {},
   "outputs": [
    {
     "name": "stderr",
     "output_type": "stream",
     "text": [
      "/mnt/DATA/alexx/miniconda3/envs/tensorflow/lib/python3.6/importlib/_bootstrap.py:219: RuntimeWarning: numpy.dtype size changed, may indicate binary incompatibility. Expected 96, got 88\n",
      "  return f(*args, **kwds)\n",
      "/mnt/DATA/alexx/miniconda3/envs/tensorflow/lib/python3.6/importlib/_bootstrap.py:219: RuntimeWarning: numpy.dtype size changed, may indicate binary incompatibility. Expected 96, got 88\n",
      "  return f(*args, **kwds)\n",
      "Using TensorFlow backend.\n"
     ]
    }
   ],
   "source": [
    "import bokeh\n",
    "from bokeh.plotting import figure, show, output_file\n",
    "from bokeh.models import LogColorMapper\n",
    "from bokeh.models import HoverTool, CheckboxGroup, CustomJS\n",
    "from bokeh.layouts import row, column\n",
    "import bokeh.palettes as bp\n",
    "from bokeh.resources import CDN\n",
    "from bokeh.embed import file_html\n",
    "\n",
    "import shutil\n",
    "import cv2 as cv\n",
    "import os\n",
    "os.environ['CUDA_VISIBLE_DEVICES'] = '0'\n",
    "from utils.img_tools import *\n",
    "from utils.linecut_model import LineCutModel\n",
    "from utils.visualize import render_mask\n",
    "from features import paragraphs\n",
    "\n"
   ]
  },
  {
   "cell_type": "markdown",
   "metadata": {},
   "source": [
    "## Extract Paragraph from Lines\n",
    "- Check your report at ./outputs/test"
   ]
  },
  {
   "cell_type": "code",
   "execution_count": null,
   "metadata": {},
   "outputs": [],
   "source": [
    "model = LineCutModel()\n",
    "model.load(model_json='./resources/model_final.json', model_weight='./resources/weight_linecut.496-0.8976.h5')\n",
    "\n",
    "img = load_img('./demo_inputs/SG1-9-1.jpg')\n",
    "boxes, lines_img, debug_img =model.predict('./demo_inputs/SG1-9-1.jpg')\n",
    "cont = paragraphs(boxes, img.shape)\n",
    "\n",
    "\n",
    "doc_objs = dict(lines=boxes, paragraphs=cont, omg=boxes)\n",
    "\n",
    "html=render_mask('./demo_inputs//SG1-9-1.jpg', doc_objs, document_name='test', save_html=True, output_path='./outputs')"
   ]
  },
  {
   "cell_type": "markdown",
   "metadata": {},
   "source": [
    "## Parse Athelia GT\n",
    "- Check your report at ./outputs/test_athelia"
   ]
  },
  {
   "cell_type": "code",
   "execution_count": 6,
   "metadata": {},
   "outputs": [],
   "source": [
    "from utils.parser import athelia_parser\n",
    "\n",
    "objs = athelia_parser('./demo_inputs/00001.xml')\n",
    "\n",
    "document_name = 'test_athelia'\n",
    "output_folder = './outputs'\n",
    "html=render_mask('./demo_inputs/00001.png', objs, document_name=document_name, \n",
    "                 save_html=True, output_path=output_folder)"
   ]
  },
  {
   "cell_type": "markdown",
   "metadata": {},
   "source": [
    "## Parse Via GT\n",
    "- Check your report at ./outputs/test_via_gt"
   ]
  },
  {
   "cell_type": "code",
   "execution_count": 5,
   "metadata": {},
   "outputs": [],
   "source": [
    "from utils.parser import via_json_parser\n",
    "\n",
    "info=via_json_parser('./demo_inputs/label_00001.json')\n",
    "img_name = '00001.png'\n",
    "document_name = 'test_via_gt'\n",
    "output_folder = './outputs'\n",
    "html=render_mask('./demo_inputs/00001.png', info[img_name]['boxes'], document_name=document_name, \n",
    "                 save_html=True, output_path=output_folder)"
   ]
  }
 ],
 "metadata": {
  "kernelspec": {
   "display_name": "tensorflow",
   "language": "python",
   "name": "tensorflow"
  },
  "language_info": {
   "codemirror_mode": {
    "name": "ipython",
    "version": 3
   },
   "file_extension": ".py",
   "mimetype": "text/x-python",
   "name": "python",
   "nbconvert_exporter": "python",
   "pygments_lexer": "ipython3",
   "version": "3.6.6"
  }
 },
 "nbformat": 4,
 "nbformat_minor": 2
}
